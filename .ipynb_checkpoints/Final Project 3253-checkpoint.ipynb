{
 "cells": [
  {
   "cell_type": "markdown",
   "metadata": {},
   "source": [
    "## Final Project  - 3253 Machine Learning\n",
    "\n",
    "### Comment Volume Prediction using Neural Networks and Decision Trees"
   ]
  },
  {
   "cell_type": "markdown",
   "metadata": {},
   "source": [
    "Can you validate the results of the paper? Can you build a better model?\n",
    "\n",
    "- http://uksim.info/uksim2015/data/8713a015.pdf\n",
    "\n",
    "First, read the paper. Then, download the data here:\n",
    "- https://archive.ics.uci.edu/ml/datasets/Facebook+Comment+Volume+Dataset\n",
    "\n",
    "- Can you train and MLP that beats a tuned RF?\n",
    "\n",
    "  \n",
    "Considerations:\n",
    "- Remember all the steps required to complete a ML project\n",
    "- Where possible include data/ML pipelines and code modularity\n",
    "- Choose an evaluation metric\n",
    "- Place utility functions and other code in a file that you can import. See discussion here: https://stackoverflow.com/questions/36427747/scientific-computing-ipython-notebook-how-to-organize-code and https://www.slideshare.net/katenerush/clean-code-in-jupyter-notebooks?next_slideshow=1\n",
    "- For the MLP part use TensorFlow\n",
    "- Deadline for submissions no later than Dec. 16th, 2017 by 8am.\n",
    "\n",
    "Comments: \n",
    "\n",
    "- Start with one of the data variations, then build on top of that\n",
    "- Submit all your final notebooks and external code\n",
    "- This is an individual project not a group project.\n",
    "\n",
    "#### Submit solutions:\n",
    "\n",
    "https://goo.gl/forms/VKOtkxNdzgxufHbf1"
   ]
  },
  {
   "cell_type": "code",
   "execution_count": 2,
   "metadata": {
    "collapsed": true
   },
   "outputs": [],
   "source": [
    "# # To support both python 2 and python 3\n",
    "# from __future__ import division, print_function, unicode_literals\n",
    "\n",
    "# # Common imports\n",
    "# import numpy as np\n",
    "# import os\n",
    "\n",
    "# # to make this notebook's output stable across runs\n",
    "# def reset_graph(seed=42):\n",
    "#     tf.reset_default_graph()\n",
    "#     tf.set_random_seed(seed)\n",
    "#     np.random.seed(seed)\n",
    "\n",
    "# # To plot pretty figures\n",
    "# %matplotlib inline\n",
    "# import matplotlib\n",
    "# import matplotlib.pyplot as plt\n",
    "# plt.rcParams['axes.labelsize'] = 14\n",
    "# plt.rcParams['xtick.labelsize'] = 12\n",
    "# plt.rcParams['ytick.labelsize'] = 12\n",
    "\n",
    "# # Where to save the figures\n",
    "# PROJECT_ROOT_DIR = \".\"\n",
    "# CHAPTER_ID = \"tensorflow\"\n",
    "\n",
    "# def save_fig(fig_id, tight_layout=True):\n",
    "#     path = os.path.join(PROJECT_ROOT_DIR, \"images\", CHAPTER_ID, fig_id + \".png\")\n",
    "#     print(\"Saving figure\", fig_id)\n",
    "#     if tight_layout:\n",
    "#         plt.tight_layout()\n",
    "#     plt.savefig(path, format='png', dpi=300)"
   ]
  },
  {
   "cell_type": "code",
   "execution_count": 3,
   "metadata": {
    "collapsed": true
   },
   "outputs": [],
   "source": [
    "# import tensorflow as tf\n",
    "\n",
    "# reset_graph()\n",
    "\n",
    "# x = tf.Variable(3, name=\"x\")\n",
    "# y = tf.Variable(4, name=\"y\")\n",
    "# f = x*x*y + y + 2"
   ]
  },
  {
   "cell_type": "code",
   "execution_count": 4,
   "metadata": {},
   "outputs": [
    {
     "data": {
      "text/plain": [
       "<tf.Tensor 'add_1:0' shape=() dtype=int32>"
      ]
     },
     "execution_count": 4,
     "metadata": {},
     "output_type": "execute_result"
    }
   ],
   "source": [
    "# f"
   ]
  },
  {
   "cell_type": "code",
   "execution_count": 5,
   "metadata": {},
   "outputs": [
    {
     "name": "stdout",
     "output_type": "stream",
     "text": [
      "42\n"
     ]
    }
   ],
   "source": [
    "# sess = tf.Session()\n",
    "# sess.run(x.initializer)\n",
    "# sess.run(y.initializer)\n",
    "# result = sess.run(f)\n",
    "# print(result)"
   ]
  },
  {
   "cell_type": "code",
   "execution_count": 1,
   "metadata": {
    "collapsed": true
   },
   "outputs": [],
   "source": [
    "# sess.close()"
   ]
  },
  {
   "cell_type": "code",
   "execution_count": 2,
   "metadata": {
    "collapsed": true
   },
   "outputs": [],
   "source": [
    "import matplotlib\n",
    "import matplotlib.pyplot as plt\n",
    "import numpy as np\n",
    "import pandas as pd"
   ]
  },
  {
   "cell_type": "code",
   "execution_count": 8,
   "metadata": {},
   "outputs": [],
   "source": [
    "import os\n",
    "SOCIAL_FEATURES_PATH = os.path.join(\"datasets\", \"features\")\n",
    "def load_data(social_path=SOCIAL_FEATURES_PATH):\n",
    "    csv_path = os.path.join(social_path, \"C:/Users/RachitBhatia/Anaconda3/uoft_machine_learning/Final_Project_Dataset/Training/Features_Variant_1.csv\")\n",
    "    return pd.read_csv(csv_path)\n",
    "\n",
    "social = load_data()"
   ]
  },
  {
   "cell_type": "code",
   "execution_count": 10,
   "metadata": {},
   "outputs": [
    {
     "name": "stdout",
     "output_type": "stream",
     "text": [
      "<class 'pandas.core.frame.DataFrame'>\n",
      "RangeIndex: 40948 entries, 0 to 40947\n",
      "Data columns (total 54 columns):\n",
      "634995                40948 non-null int64\n",
      "0                     40948 non-null int64\n",
      "463                   40948 non-null int64\n",
      "1                     40948 non-null int64\n",
      "0.0                   40948 non-null float64\n",
      "806.0                 40948 non-null float64\n",
      "11.291044776119403    40948 non-null float64\n",
      "1.0                   40948 non-null float64\n",
      "70.49513846124168     40948 non-null float64\n",
      "0.0.1                 40948 non-null float64\n",
      "806.0.1               40948 non-null float64\n",
      "7.574626865671642     40948 non-null float64\n",
      "0.0.2                 40948 non-null float64\n",
      "69.435826365571       40948 non-null float64\n",
      "0.0.3                 40948 non-null float64\n",
      "76.0                  40948 non-null float64\n",
      "2.6044776119402986    40948 non-null float64\n",
      "0.0.4                 40948 non-null float64\n",
      "8.50550186882253      40948 non-null float64\n",
      "0.0.5                 40948 non-null float64\n",
      "806.0.2               40948 non-null float64\n",
      "10.649253731343284    40948 non-null float64\n",
      "1.0.1                 40948 non-null float64\n",
      "70.25478763764251     40948 non-null float64\n",
      "-69.0                 40948 non-null float64\n",
      "806.0.3               40948 non-null float64\n",
      "4.970149253731344     40948 non-null float64\n",
      "0.0.6                 40948 non-null float64\n",
      "69.85058043098057     40948 non-null float64\n",
      "0.1                   40948 non-null int64\n",
      "0.2                   40948 non-null int64\n",
      "0.3                   40948 non-null int64\n",
      "0.4                   40948 non-null int64\n",
      "0.5                   40948 non-null int64\n",
      "65                    40948 non-null int64\n",
      "166                   40948 non-null int64\n",
      "2                     40948 non-null int64\n",
      "0.6                   40948 non-null int64\n",
      "24                    40948 non-null int64\n",
      "0.7                   40948 non-null int64\n",
      "0.8                   40948 non-null int64\n",
      "0.9                   40948 non-null int64\n",
      "1.1                   40948 non-null int64\n",
      "0.10                  40948 non-null int64\n",
      "0.11                  40948 non-null int64\n",
      "0.12                  40948 non-null int64\n",
      "0.13                  40948 non-null int64\n",
      "0.14                  40948 non-null int64\n",
      "0.15                  40948 non-null int64\n",
      "0.16                  40948 non-null int64\n",
      "0.17                  40948 non-null int64\n",
      "0.18                  40948 non-null int64\n",
      "1.2                   40948 non-null int64\n",
      "0.19                  40948 non-null int64\n",
      "dtypes: float64(25), int64(29)\n",
      "memory usage: 16.9 MB\n"
     ]
    }
   ],
   "source": [
    "social.info()"
   ]
  },
  {
   "cell_type": "code",
   "execution_count": 19,
   "metadata": {
    "collapsed": true
   },
   "outputs": [],
   "source": [
    "from sklearn.linear_model import Lasso\n",
    "\n",
    "from sklearn.base import BaseEstimator, TransformerMixin\n",
    "from sklearn.pipeline import Pipeline\n",
    "\n",
    "from sklearn.preprocessing import Imputer\n",
    "from sklearn.pipeline import Pipeline\n",
    "from sklearn.preprocessing import MinMaxScaler\n",
    "\n",
    "from utils_3253 import CategoricalEncoder\n",
    "from utils_3253 import DataFrameSelector"
   ]
  },
  {
   "cell_type": "code",
   "execution_count": 21,
   "metadata": {},
   "outputs": [],
   "source": [
    "# housing_num = social.drop(\"ocean_proximity\", axis=1)\n",
    "num_attribs = list(social)\n",
    "# cat_attribs = [\"ocean_proximity\"]\n",
    "\n",
    "num_pipeline = Pipeline([\n",
    "        ('selector', DataFrameSelector(num_attribs)),\n",
    "        ('imputer', Imputer(strategy=\"median\")),\n",
    "#         ('attribs_adder', CombinedAttributesAdder()),\n",
    "        ('nrm_scaler', MinMaxScaler()),\n",
    "    ])\n",
    "\n",
    "# cat_pipeline = Pipeline([\n",
    "#         ('selector', DataFrameSelector(cat_attribs)),\n",
    "#         ('cat_encoder', CategoricalEncoder(encoding=\"onehot-dense\")),\n",
    "#     ])\n",
    "\n",
    "from sklearn.pipeline import FeatureUnion\n",
    "\n",
    "full_pipeline = FeatureUnion(transformer_list=[\n",
    "        (\"num_pipeline\", num_pipeline),\n",
    "#         (\"cat_pipeline\", cat_pipeline),\n",
    "    ])"
   ]
  },
  {
   "cell_type": "code",
   "execution_count": 22,
   "metadata": {},
   "outputs": [
    {
     "data": {
      "text/plain": [
       "array([[  1.30389152e-03,   0.00000000e+00,   7.60269966e-05, ...,\n",
       "          1.00000000e+00,   0.00000000e+00,   0.00000000e+00],\n",
       "       [  1.30389152e-03,   0.00000000e+00,   7.60269966e-05, ...,\n",
       "          0.00000000e+00,   1.00000000e+00,   0.00000000e+00],\n",
       "       [  1.30389152e-03,   0.00000000e+00,   7.60269966e-05, ...,\n",
       "          0.00000000e+00,   0.00000000e+00,   0.00000000e+00],\n",
       "       ..., \n",
       "       [  1.47237853e-02,   3.75596931e-04,   8.16099726e-02, ...,\n",
       "          0.00000000e+00,   0.00000000e+00,   5.51724138e-02],\n",
       "       [  1.47237853e-02,   3.75596931e-04,   8.16099726e-02, ...,\n",
       "          1.00000000e+00,   0.00000000e+00,   2.14559387e-02],\n",
       "       [  1.47237853e-02,   3.75596931e-04,   8.16099726e-02, ...,\n",
       "          1.00000000e+00,   0.00000000e+00,   8.42911877e-03]])"
      ]
     },
     "execution_count": 22,
     "metadata": {},
     "output_type": "execute_result"
    }
   ],
   "source": [
    "social_prepared = full_pipeline.fit_transform(social)\n",
    "social_prepared"
   ]
  },
  {
   "cell_type": "code",
   "execution_count": null,
   "metadata": {
    "collapsed": true
   },
   "outputs": [],
   "source": []
  },
  {
   "cell_type": "code",
   "execution_count": null,
   "metadata": {
    "collapsed": true
   },
   "outputs": [],
   "source": []
  },
  {
   "cell_type": "code",
   "execution_count": null,
   "metadata": {
    "collapsed": true
   },
   "outputs": [],
   "source": []
  },
  {
   "cell_type": "code",
   "execution_count": null,
   "metadata": {
    "collapsed": true
   },
   "outputs": [],
   "source": []
  },
  {
   "cell_type": "code",
   "execution_count": null,
   "metadata": {
    "collapsed": true
   },
   "outputs": [],
   "source": []
  },
  {
   "cell_type": "code",
   "execution_count": null,
   "metadata": {
    "collapsed": true
   },
   "outputs": [],
   "source": []
  },
  {
   "cell_type": "code",
   "execution_count": null,
   "metadata": {
    "collapsed": true
   },
   "outputs": [],
   "source": []
  }
 ],
 "metadata": {
  "kernelspec": {
   "display_name": "Python 3",
   "language": "python",
   "name": "python3"
  },
  "language_info": {
   "codemirror_mode": {
    "name": "ipython",
    "version": 3
   },
   "file_extension": ".py",
   "mimetype": "text/x-python",
   "name": "python",
   "nbconvert_exporter": "python",
   "pygments_lexer": "ipython3",
   "version": "3.6.1"
  }
 },
 "nbformat": 4,
 "nbformat_minor": 2
}
