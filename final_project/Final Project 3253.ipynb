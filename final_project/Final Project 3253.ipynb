{
 "cells": [
  {
   "cell_type": "markdown",
   "metadata": {},
   "source": [
    "## Final Project  - 3253 Machine Learning\n",
    "\n",
    "### Comment Volume Prediction using Neural Networks and Decision Trees"
   ]
  },
  {
   "cell_type": "markdown",
   "metadata": {},
   "source": [
    "Can you validate the results of the paper? Can you build a better model?\n",
    "\n",
    "- http://uksim.info/uksim2015/data/8713a015.pdf\n",
    "\n",
    "First, read the paper. Then, download the data here:\n",
    "- https://archive.ics.uci.edu/ml/datasets/Facebook+Comment+Volume+Dataset\n",
    "\n",
    "- Can you train and MLP that beats a tuned RF?\n",
    "\n",
    "  \n",
    "Considerations:\n",
    "- Remember all the steps required to complete a ML project\n",
    "- Where possible include data/ML pipelines and code modularity\n",
    "- Choose an evaluation metric\n",
    "- Place utility functions and other code in a file that you can import. See discussion here: https://stackoverflow.com/questions/36427747/scientific-computing-ipython-notebook-how-to-organize-code and https://www.slideshare.net/katenerush/clean-code-in-jupyter-notebooks?next_slideshow=1\n",
    "- For the MLP part use TensorFlow\n",
    "- Deadline for submissions no later than Dec. 16th, 2017 by 8am.\n",
    "\n",
    "Comments: \n",
    "\n",
    "- Start with one of the data variations, then build on top of that\n",
    "- Submit all your final notebooks and external code\n",
    "- This is an individual project not a group project.\n",
    "\n",
    "#### Submit solutions:\n",
    "\n",
    "https://goo.gl/forms/VKOtkxNdzgxufHbf1"
   ]
  },
  {
   "cell_type": "code",
   "execution_count": null,
   "metadata": {
    "collapsed": true
   },
   "outputs": [],
   "source": []
  },
  {
   "cell_type": "markdown",
   "metadata": {
    "collapsed": true
   },
   "source": [
    "As it is mentioned in a paper, it is an regressor problem. I have used random forest regressor and Muliti Layer Preceptron. I have compared the socre.\n",
    "The aim is to achive more score with neural networks than decision trees"
   ]
  },
  {
   "cell_type": "code",
   "execution_count": 1,
   "metadata": {
    "collapsed": true
   },
   "outputs": [],
   "source": [
    "import matplotlib\n",
    "import matplotlib.pyplot as plt\n",
    "import numpy as np\n",
    "import pandas as pd"
   ]
  },
  {
   "cell_type": "code",
   "execution_count": 2,
   "metadata": {
    "collapsed": true
   },
   "outputs": [],
   "source": [
    "import csv\n",
    "\n",
    "# with open('C:/Users/RachitBhatia/Anaconda3/uoft_machine_learning/Final_Project_Dataset/Training/Features_Variant_1.csv', 'wb') as outcsv:\n",
    "#     writer = csv.writer(outcsv)\n",
    "#     writer.writerow([\"Product/service\",\"Public figure\",\"Retail and consumer merchandise\",\"Athlete\",\"Education website\",\"Arts/entertainment/nightlife\",\"Aerospace/defense\",\"Actor/director\",\"Professional sports team\",\"Travel/leisure\",\"Arts/humanities website\",\"Food/beverages\",\"Record label\",\"Movie\",\"Song\",\"Community\",\"Company\",\"Artist\",\"Non-governmental organization (ngo)\",\"Media/news/publishing\",\"Cars\",\"Clothing\",\"Local business\",\"Musician/band\",\"Politician\",\"News/media website\",\"Education\",\"Author\",\"Sports event\",\"Restaurant/cafe\",\"School sports team\",\"University\",\"Tv show\",\"Website\",\"Outdoor gear/sporting goods\",\"Political party\",\"Sports league\",\"Entertainer\",\"Church/religious organization\",\"Non-profit organization\",\"Automobiles and parts\",\"Tv channel\",\"Telecommunication\",\"Entertainment website\",\"Shopping/retail\",\"Personal blog\",\"App page\",\"Vitamins/supplements\",\"Professional services\",\"Movie theater\",\"Software\",\"Magazine\",\"Electronics\",\"School\"])\n",
    "\n",
    "\n",
    "# with open('C:/Users/RachitBhatia/Anaconda3/uoft_machine_learning/Final_Project_Dataset/Training/Features_Variant_1.csv', 'w') as outcsv:\n",
    "#     writer = csv.DictWriter(outcsv, fieldnames = [\"Product/service\",\"Public figure\",\"Retail and consumer merchandise\",\"Athlete\",\"Education website\",\"Arts/entertainment/nightlife\",\"Aerospace/defense\",\"Actor/director\",\"Professional sports team\",\"Travel/leisure\",\"Arts/humanities website\",\"Food/beverages\",\"Record label\",\"Movie\",\"Song\",\"Community\",\"Company\",\"Artist\",\"Non-governmental organization (ngo)\",\"Media/news/publishing\",\"Cars\",\"Clothing\",\"Local business\",\"Musician/band\",\"Politician\",\"News/media website\",\"Education\",\"Author\",\"Sports event\",\"Restaurant/cafe\",\"School sports team\",\"University\",\"Tv show\",\"Website\",\"Outdoor gear/sporting goods\",\"Political party\",\"Sports league\",\"Entertainer\",\"Church/religious organization\",\"Non-profit organization\",\"Automobiles and parts\",\"Tv channel\",\"Telecommunication\",\"Entertainment website\",\"Shopping/retail\",\"Personal blog\",\"App page\",\"Vitamins/supplements\",\"Professional services\",\"Movie theater\",\"Software\",\"Magazine\",\"Electronics\",\"School\"])\n",
    "#     writer.writeheader()\n",
    "    "
   ]
  },
  {
   "cell_type": "markdown",
   "metadata": {},
   "source": [
    "Getting data set"
   ]
  },
  {
   "cell_type": "code",
   "execution_count": 3,
   "metadata": {
    "collapsed": true
   },
   "outputs": [],
   "source": [
    "import os\n",
    "SOCIAL_FEATURES_PATH = os.path.join(\"datasets\", \"features\")\n",
    "def load_data(social_path=SOCIAL_FEATURES_PATH):\n",
    "    csv_path = os.path.join(social_path, \"C:/Users/RachitBhatia/Anaconda3/uoft_machine_learning/Final_Project_Dataset/Training/Features_Variant_name.csv\")\n",
    "    return pd.read_csv(csv_path)\n",
    "\n",
    "social = load_data()\n"
   ]
  },
  {
   "cell_type": "code",
   "execution_count": null,
   "metadata": {
    "collapsed": true
   },
   "outputs": [],
   "source": []
  },
  {
   "cell_type": "code",
   "execution_count": null,
   "metadata": {
    "collapsed": true
   },
   "outputs": [],
   "source": []
  },
  {
   "cell_type": "markdown",
   "metadata": {},
   "source": [
    "data Info"
   ]
  },
  {
   "cell_type": "code",
   "execution_count": 4,
   "metadata": {},
   "outputs": [
    {
     "name": "stdout",
     "output_type": "stream",
     "text": [
      "<class 'pandas.core.frame.DataFrame'>\n",
      "RangeIndex: 40949 entries, 0 to 40948\n",
      "Data columns (total 54 columns):\n",
      "page_likes                40949 non-null int64\n",
      "page_checkin              40949 non-null int64\n",
      "page_talking_about        40949 non-null int64\n",
      "page_category             40949 non-null int64\n",
      "derived_1                 40949 non-null int64\n",
      "derived_2                 40949 non-null int64\n",
      "derived_3                 40949 non-null float64\n",
      "derived_4                 40949 non-null float64\n",
      "derived_5                 40949 non-null float64\n",
      "derived_6                 40949 non-null int64\n",
      "derived_7                 40949 non-null int64\n",
      "derived_8                 40949 non-null float64\n",
      "derived_9                 40949 non-null float64\n",
      "derived_10                40949 non-null float64\n",
      "derived_11                40949 non-null int64\n",
      "derived_12                40949 non-null int64\n",
      "derived_13                40949 non-null float64\n",
      "derived_14                40949 non-null float64\n",
      "derived_15                40949 non-null float64\n",
      "derived_16                40949 non-null int64\n",
      "derived_17                40949 non-null int64\n",
      "derived_18                40949 non-null float64\n",
      "derived_19                40949 non-null float64\n",
      "derived_20                40949 non-null float64\n",
      "derived_21                40949 non-null int64\n",
      "derived_22                40949 non-null int64\n",
      "derived_23                40949 non-null float64\n",
      "derived_24                40949 non-null float64\n",
      "derived_25                40949 non-null float64\n",
      "CC1                       40949 non-null int64\n",
      "CC2                       40949 non-null int64\n",
      "CC3                       40949 non-null int64\n",
      "CC4                       40949 non-null int64\n",
      "CC5                       40949 non-null int64\n",
      "base_time                 40949 non-null int64\n",
      "post_length               40949 non-null int64\n",
      "post_share_count          40949 non-null int64\n",
      "post_promition_status     40949 non-null int64\n",
      "h_local                   40949 non-null int64\n",
      "post_publish_weekly_1     40949 non-null int64\n",
      "post_publish_weekly_2     40949 non-null int64\n",
      "post_publish_weekly_3     40949 non-null int64\n",
      "post_publish_weekly_4     40949 non-null int64\n",
      "post_publish_weekly_5     40949 non-null int64\n",
      "post_publish_weekly_6     40949 non-null int64\n",
      "post_publish_weekly_7     40949 non-null int64\n",
      "base_datetime_weekly_1    40949 non-null int64\n",
      "base_datetime_weekly_2    40949 non-null int64\n",
      "base_datetime_weekly_3    40949 non-null int64\n",
      "base_datetime_weekly_4    40949 non-null int64\n",
      "base_datetime_weekly_5    40949 non-null int64\n",
      "base_datetime_weekly_6    40949 non-null int64\n",
      "base_datetime_weekly_7    40949 non-null int64\n",
      "target_variable           40949 non-null int64\n",
      "dtypes: float64(15), int64(39)\n",
      "memory usage: 16.9 MB\n"
     ]
    }
   ],
   "source": [
    "social.info()"
   ]
  },
  {
   "cell_type": "code",
   "execution_count": 5,
   "metadata": {},
   "outputs": [
    {
     "data": {
      "text/html": [
       "<div>\n",
       "<style>\n",
       "    .dataframe thead tr:only-child th {\n",
       "        text-align: right;\n",
       "    }\n",
       "\n",
       "    .dataframe thead th {\n",
       "        text-align: left;\n",
       "    }\n",
       "\n",
       "    .dataframe tbody tr th {\n",
       "        vertical-align: top;\n",
       "    }\n",
       "</style>\n",
       "<table border=\"1\" class=\"dataframe\">\n",
       "  <thead>\n",
       "    <tr style=\"text-align: right;\">\n",
       "      <th></th>\n",
       "      <th>page_likes</th>\n",
       "      <th>page_checkin</th>\n",
       "      <th>page_talking_about</th>\n",
       "      <th>page_category</th>\n",
       "      <th>derived_1</th>\n",
       "      <th>derived_2</th>\n",
       "      <th>derived_3</th>\n",
       "      <th>derived_4</th>\n",
       "      <th>derived_5</th>\n",
       "      <th>derived_6</th>\n",
       "      <th>...</th>\n",
       "      <th>post_publish_weekly_6</th>\n",
       "      <th>post_publish_weekly_7</th>\n",
       "      <th>base_datetime_weekly_1</th>\n",
       "      <th>base_datetime_weekly_2</th>\n",
       "      <th>base_datetime_weekly_3</th>\n",
       "      <th>base_datetime_weekly_4</th>\n",
       "      <th>base_datetime_weekly_5</th>\n",
       "      <th>base_datetime_weekly_6</th>\n",
       "      <th>base_datetime_weekly_7</th>\n",
       "      <th>target_variable</th>\n",
       "    </tr>\n",
       "  </thead>\n",
       "  <tbody>\n",
       "    <tr>\n",
       "      <th>0</th>\n",
       "      <td>634995</td>\n",
       "      <td>0</td>\n",
       "      <td>463</td>\n",
       "      <td>1</td>\n",
       "      <td>0</td>\n",
       "      <td>806</td>\n",
       "      <td>11.291045</td>\n",
       "      <td>1.0</td>\n",
       "      <td>70.495138</td>\n",
       "      <td>0</td>\n",
       "      <td>...</td>\n",
       "      <td>0</td>\n",
       "      <td>0</td>\n",
       "      <td>0</td>\n",
       "      <td>0</td>\n",
       "      <td>0</td>\n",
       "      <td>0</td>\n",
       "      <td>0</td>\n",
       "      <td>0</td>\n",
       "      <td>1</td>\n",
       "      <td>0</td>\n",
       "    </tr>\n",
       "    <tr>\n",
       "      <th>1</th>\n",
       "      <td>634995</td>\n",
       "      <td>0</td>\n",
       "      <td>463</td>\n",
       "      <td>1</td>\n",
       "      <td>0</td>\n",
       "      <td>806</td>\n",
       "      <td>11.291045</td>\n",
       "      <td>1.0</td>\n",
       "      <td>70.495138</td>\n",
       "      <td>0</td>\n",
       "      <td>...</td>\n",
       "      <td>0</td>\n",
       "      <td>0</td>\n",
       "      <td>0</td>\n",
       "      <td>0</td>\n",
       "      <td>0</td>\n",
       "      <td>0</td>\n",
       "      <td>0</td>\n",
       "      <td>1</td>\n",
       "      <td>0</td>\n",
       "      <td>0</td>\n",
       "    </tr>\n",
       "    <tr>\n",
       "      <th>2</th>\n",
       "      <td>634995</td>\n",
       "      <td>0</td>\n",
       "      <td>463</td>\n",
       "      <td>1</td>\n",
       "      <td>0</td>\n",
       "      <td>806</td>\n",
       "      <td>11.291045</td>\n",
       "      <td>1.0</td>\n",
       "      <td>70.495138</td>\n",
       "      <td>0</td>\n",
       "      <td>...</td>\n",
       "      <td>1</td>\n",
       "      <td>0</td>\n",
       "      <td>0</td>\n",
       "      <td>0</td>\n",
       "      <td>0</td>\n",
       "      <td>0</td>\n",
       "      <td>0</td>\n",
       "      <td>0</td>\n",
       "      <td>1</td>\n",
       "      <td>0</td>\n",
       "    </tr>\n",
       "    <tr>\n",
       "      <th>3</th>\n",
       "      <td>634995</td>\n",
       "      <td>0</td>\n",
       "      <td>463</td>\n",
       "      <td>1</td>\n",
       "      <td>0</td>\n",
       "      <td>806</td>\n",
       "      <td>11.291045</td>\n",
       "      <td>1.0</td>\n",
       "      <td>70.495138</td>\n",
       "      <td>0</td>\n",
       "      <td>...</td>\n",
       "      <td>1</td>\n",
       "      <td>0</td>\n",
       "      <td>0</td>\n",
       "      <td>1</td>\n",
       "      <td>0</td>\n",
       "      <td>0</td>\n",
       "      <td>0</td>\n",
       "      <td>0</td>\n",
       "      <td>0</td>\n",
       "      <td>0</td>\n",
       "    </tr>\n",
       "    <tr>\n",
       "      <th>4</th>\n",
       "      <td>634995</td>\n",
       "      <td>0</td>\n",
       "      <td>463</td>\n",
       "      <td>1</td>\n",
       "      <td>0</td>\n",
       "      <td>806</td>\n",
       "      <td>11.291045</td>\n",
       "      <td>1.0</td>\n",
       "      <td>70.495138</td>\n",
       "      <td>0</td>\n",
       "      <td>...</td>\n",
       "      <td>0</td>\n",
       "      <td>0</td>\n",
       "      <td>0</td>\n",
       "      <td>0</td>\n",
       "      <td>0</td>\n",
       "      <td>1</td>\n",
       "      <td>0</td>\n",
       "      <td>0</td>\n",
       "      <td>0</td>\n",
       "      <td>0</td>\n",
       "    </tr>\n",
       "  </tbody>\n",
       "</table>\n",
       "<p>5 rows × 54 columns</p>\n",
       "</div>"
      ],
      "text/plain": [
       "   page_likes  page_checkin  page_talking_about  page_category  derived_1  \\\n",
       "0      634995             0                 463              1          0   \n",
       "1      634995             0                 463              1          0   \n",
       "2      634995             0                 463              1          0   \n",
       "3      634995             0                 463              1          0   \n",
       "4      634995             0                 463              1          0   \n",
       "\n",
       "   derived_2  derived_3  derived_4  derived_5  derived_6       ...         \\\n",
       "0        806  11.291045        1.0  70.495138          0       ...          \n",
       "1        806  11.291045        1.0  70.495138          0       ...          \n",
       "2        806  11.291045        1.0  70.495138          0       ...          \n",
       "3        806  11.291045        1.0  70.495138          0       ...          \n",
       "4        806  11.291045        1.0  70.495138          0       ...          \n",
       "\n",
       "   post_publish_weekly_6  post_publish_weekly_7  base_datetime_weekly_1  \\\n",
       "0                      0                      0                       0   \n",
       "1                      0                      0                       0   \n",
       "2                      1                      0                       0   \n",
       "3                      1                      0                       0   \n",
       "4                      0                      0                       0   \n",
       "\n",
       "   base_datetime_weekly_2  base_datetime_weekly_3  base_datetime_weekly_4  \\\n",
       "0                       0                       0                       0   \n",
       "1                       0                       0                       0   \n",
       "2                       0                       0                       0   \n",
       "3                       1                       0                       0   \n",
       "4                       0                       0                       1   \n",
       "\n",
       "   base_datetime_weekly_5  base_datetime_weekly_6  base_datetime_weekly_7  \\\n",
       "0                       0                       0                       1   \n",
       "1                       0                       1                       0   \n",
       "2                       0                       0                       1   \n",
       "3                       0                       0                       0   \n",
       "4                       0                       0                       0   \n",
       "\n",
       "   target_variable  \n",
       "0                0  \n",
       "1                0  \n",
       "2                0  \n",
       "3                0  \n",
       "4                0  \n",
       "\n",
       "[5 rows x 54 columns]"
      ]
     },
     "execution_count": 5,
     "metadata": {},
     "output_type": "execute_result"
    }
   ],
   "source": [
    "social.head()"
   ]
  },
  {
   "cell_type": "markdown",
   "metadata": {},
   "source": [
    "Importing utils and pipelining dependencies"
   ]
  },
  {
   "cell_type": "code",
   "execution_count": 6,
   "metadata": {
    "collapsed": true
   },
   "outputs": [],
   "source": [
    "from sklearn.linear_model import Lasso\n",
    "\n",
    "from sklearn.base import BaseEstimator, TransformerMixin\n",
    "from sklearn.pipeline import Pipeline\n",
    "\n",
    "from sklearn.preprocessing import Imputer\n",
    "from sklearn.pipeline import Pipeline\n",
    "from sklearn.preprocessing import MinMaxScaler\n",
    "\n",
    "from utils_3253 import CategoricalEncoder\n",
    "from utils_3253 import DataFrameSelector"
   ]
  },
  {
   "cell_type": "code",
   "execution_count": 7,
   "metadata": {
    "collapsed": true
   },
   "outputs": [],
   "source": [
    "social_y = social['target_variable']"
   ]
  },
  {
   "cell_type": "code",
   "execution_count": 8,
   "metadata": {},
   "outputs": [
    {
     "data": {
      "text/plain": [
       "0    0\n",
       "1    0\n",
       "2    0\n",
       "3    0\n",
       "4    0\n",
       "Name: target_variable, dtype: int64"
      ]
     },
     "execution_count": 8,
     "metadata": {},
     "output_type": "execute_result"
    }
   ],
   "source": [
    "social_y.head()"
   ]
  },
  {
   "cell_type": "code",
   "execution_count": 9,
   "metadata": {
    "collapsed": true
   },
   "outputs": [],
   "source": [
    "social_x = social\n",
    "#social_x.drop['School'], \n",
    "social_x.drop(social.columns[53], axis=1, inplace=True)\n",
    "\n"
   ]
  },
  {
   "cell_type": "code",
   "execution_count": 10,
   "metadata": {},
   "outputs": [
    {
     "name": "stdout",
     "output_type": "stream",
     "text": [
      "<class 'pandas.core.frame.DataFrame'>\n",
      "RangeIndex: 40949 entries, 0 to 40948\n",
      "Data columns (total 53 columns):\n",
      "page_likes                40949 non-null int64\n",
      "page_checkin              40949 non-null int64\n",
      "page_talking_about        40949 non-null int64\n",
      "page_category             40949 non-null int64\n",
      "derived_1                 40949 non-null int64\n",
      "derived_2                 40949 non-null int64\n",
      "derived_3                 40949 non-null float64\n",
      "derived_4                 40949 non-null float64\n",
      "derived_5                 40949 non-null float64\n",
      "derived_6                 40949 non-null int64\n",
      "derived_7                 40949 non-null int64\n",
      "derived_8                 40949 non-null float64\n",
      "derived_9                 40949 non-null float64\n",
      "derived_10                40949 non-null float64\n",
      "derived_11                40949 non-null int64\n",
      "derived_12                40949 non-null int64\n",
      "derived_13                40949 non-null float64\n",
      "derived_14                40949 non-null float64\n",
      "derived_15                40949 non-null float64\n",
      "derived_16                40949 non-null int64\n",
      "derived_17                40949 non-null int64\n",
      "derived_18                40949 non-null float64\n",
      "derived_19                40949 non-null float64\n",
      "derived_20                40949 non-null float64\n",
      "derived_21                40949 non-null int64\n",
      "derived_22                40949 non-null int64\n",
      "derived_23                40949 non-null float64\n",
      "derived_24                40949 non-null float64\n",
      "derived_25                40949 non-null float64\n",
      "CC1                       40949 non-null int64\n",
      "CC2                       40949 non-null int64\n",
      "CC3                       40949 non-null int64\n",
      "CC4                       40949 non-null int64\n",
      "CC5                       40949 non-null int64\n",
      "base_time                 40949 non-null int64\n",
      "post_length               40949 non-null int64\n",
      "post_share_count          40949 non-null int64\n",
      "post_promition_status     40949 non-null int64\n",
      "h_local                   40949 non-null int64\n",
      "post_publish_weekly_1     40949 non-null int64\n",
      "post_publish_weekly_2     40949 non-null int64\n",
      "post_publish_weekly_3     40949 non-null int64\n",
      "post_publish_weekly_4     40949 non-null int64\n",
      "post_publish_weekly_5     40949 non-null int64\n",
      "post_publish_weekly_6     40949 non-null int64\n",
      "post_publish_weekly_7     40949 non-null int64\n",
      "base_datetime_weekly_1    40949 non-null int64\n",
      "base_datetime_weekly_2    40949 non-null int64\n",
      "base_datetime_weekly_3    40949 non-null int64\n",
      "base_datetime_weekly_4    40949 non-null int64\n",
      "base_datetime_weekly_5    40949 non-null int64\n",
      "base_datetime_weekly_6    40949 non-null int64\n",
      "base_datetime_weekly_7    40949 non-null int64\n",
      "dtypes: float64(15), int64(38)\n",
      "memory usage: 16.6 MB\n"
     ]
    }
   ],
   "source": [
    "social_x.info()"
   ]
  },
  {
   "cell_type": "code",
   "execution_count": 11,
   "metadata": {
    "collapsed": true
   },
   "outputs": [],
   "source": [
    "del social_x['post_promition_status']"
   ]
  },
  {
   "cell_type": "code",
   "execution_count": 12,
   "metadata": {},
   "outputs": [
    {
     "data": {
      "text/html": [
       "<div>\n",
       "<style>\n",
       "    .dataframe thead tr:only-child th {\n",
       "        text-align: right;\n",
       "    }\n",
       "\n",
       "    .dataframe thead th {\n",
       "        text-align: left;\n",
       "    }\n",
       "\n",
       "    .dataframe tbody tr th {\n",
       "        vertical-align: top;\n",
       "    }\n",
       "</style>\n",
       "<table border=\"1\" class=\"dataframe\">\n",
       "  <thead>\n",
       "    <tr style=\"text-align: right;\">\n",
       "      <th></th>\n",
       "      <th>page_likes</th>\n",
       "      <th>page_checkin</th>\n",
       "      <th>page_talking_about</th>\n",
       "      <th>page_category</th>\n",
       "      <th>derived_1</th>\n",
       "      <th>derived_2</th>\n",
       "      <th>derived_3</th>\n",
       "      <th>derived_4</th>\n",
       "      <th>derived_5</th>\n",
       "      <th>derived_6</th>\n",
       "      <th>...</th>\n",
       "      <th>post_publish_weekly_5</th>\n",
       "      <th>post_publish_weekly_6</th>\n",
       "      <th>post_publish_weekly_7</th>\n",
       "      <th>base_datetime_weekly_1</th>\n",
       "      <th>base_datetime_weekly_2</th>\n",
       "      <th>base_datetime_weekly_3</th>\n",
       "      <th>base_datetime_weekly_4</th>\n",
       "      <th>base_datetime_weekly_5</th>\n",
       "      <th>base_datetime_weekly_6</th>\n",
       "      <th>base_datetime_weekly_7</th>\n",
       "    </tr>\n",
       "  </thead>\n",
       "  <tbody>\n",
       "    <tr>\n",
       "      <th>0</th>\n",
       "      <td>634995</td>\n",
       "      <td>0</td>\n",
       "      <td>463</td>\n",
       "      <td>1</td>\n",
       "      <td>0</td>\n",
       "      <td>806</td>\n",
       "      <td>11.291045</td>\n",
       "      <td>1.0</td>\n",
       "      <td>70.495138</td>\n",
       "      <td>0</td>\n",
       "      <td>...</td>\n",
       "      <td>0</td>\n",
       "      <td>0</td>\n",
       "      <td>0</td>\n",
       "      <td>0</td>\n",
       "      <td>0</td>\n",
       "      <td>0</td>\n",
       "      <td>0</td>\n",
       "      <td>0</td>\n",
       "      <td>0</td>\n",
       "      <td>1</td>\n",
       "    </tr>\n",
       "    <tr>\n",
       "      <th>1</th>\n",
       "      <td>634995</td>\n",
       "      <td>0</td>\n",
       "      <td>463</td>\n",
       "      <td>1</td>\n",
       "      <td>0</td>\n",
       "      <td>806</td>\n",
       "      <td>11.291045</td>\n",
       "      <td>1.0</td>\n",
       "      <td>70.495138</td>\n",
       "      <td>0</td>\n",
       "      <td>...</td>\n",
       "      <td>1</td>\n",
       "      <td>0</td>\n",
       "      <td>0</td>\n",
       "      <td>0</td>\n",
       "      <td>0</td>\n",
       "      <td>0</td>\n",
       "      <td>0</td>\n",
       "      <td>0</td>\n",
       "      <td>1</td>\n",
       "      <td>0</td>\n",
       "    </tr>\n",
       "    <tr>\n",
       "      <th>2</th>\n",
       "      <td>634995</td>\n",
       "      <td>0</td>\n",
       "      <td>463</td>\n",
       "      <td>1</td>\n",
       "      <td>0</td>\n",
       "      <td>806</td>\n",
       "      <td>11.291045</td>\n",
       "      <td>1.0</td>\n",
       "      <td>70.495138</td>\n",
       "      <td>0</td>\n",
       "      <td>...</td>\n",
       "      <td>0</td>\n",
       "      <td>1</td>\n",
       "      <td>0</td>\n",
       "      <td>0</td>\n",
       "      <td>0</td>\n",
       "      <td>0</td>\n",
       "      <td>0</td>\n",
       "      <td>0</td>\n",
       "      <td>0</td>\n",
       "      <td>1</td>\n",
       "    </tr>\n",
       "    <tr>\n",
       "      <th>3</th>\n",
       "      <td>634995</td>\n",
       "      <td>0</td>\n",
       "      <td>463</td>\n",
       "      <td>1</td>\n",
       "      <td>0</td>\n",
       "      <td>806</td>\n",
       "      <td>11.291045</td>\n",
       "      <td>1.0</td>\n",
       "      <td>70.495138</td>\n",
       "      <td>0</td>\n",
       "      <td>...</td>\n",
       "      <td>0</td>\n",
       "      <td>1</td>\n",
       "      <td>0</td>\n",
       "      <td>0</td>\n",
       "      <td>1</td>\n",
       "      <td>0</td>\n",
       "      <td>0</td>\n",
       "      <td>0</td>\n",
       "      <td>0</td>\n",
       "      <td>0</td>\n",
       "    </tr>\n",
       "    <tr>\n",
       "      <th>4</th>\n",
       "      <td>634995</td>\n",
       "      <td>0</td>\n",
       "      <td>463</td>\n",
       "      <td>1</td>\n",
       "      <td>0</td>\n",
       "      <td>806</td>\n",
       "      <td>11.291045</td>\n",
       "      <td>1.0</td>\n",
       "      <td>70.495138</td>\n",
       "      <td>0</td>\n",
       "      <td>...</td>\n",
       "      <td>0</td>\n",
       "      <td>0</td>\n",
       "      <td>0</td>\n",
       "      <td>0</td>\n",
       "      <td>0</td>\n",
       "      <td>0</td>\n",
       "      <td>1</td>\n",
       "      <td>0</td>\n",
       "      <td>0</td>\n",
       "      <td>0</td>\n",
       "    </tr>\n",
       "  </tbody>\n",
       "</table>\n",
       "<p>5 rows × 52 columns</p>\n",
       "</div>"
      ],
      "text/plain": [
       "   page_likes  page_checkin  page_talking_about  page_category  derived_1  \\\n",
       "0      634995             0                 463              1          0   \n",
       "1      634995             0                 463              1          0   \n",
       "2      634995             0                 463              1          0   \n",
       "3      634995             0                 463              1          0   \n",
       "4      634995             0                 463              1          0   \n",
       "\n",
       "   derived_2  derived_3  derived_4  derived_5  derived_6  \\\n",
       "0        806  11.291045        1.0  70.495138          0   \n",
       "1        806  11.291045        1.0  70.495138          0   \n",
       "2        806  11.291045        1.0  70.495138          0   \n",
       "3        806  11.291045        1.0  70.495138          0   \n",
       "4        806  11.291045        1.0  70.495138          0   \n",
       "\n",
       "            ...            post_publish_weekly_5  post_publish_weekly_6  \\\n",
       "0           ...                                0                      0   \n",
       "1           ...                                1                      0   \n",
       "2           ...                                0                      1   \n",
       "3           ...                                0                      1   \n",
       "4           ...                                0                      0   \n",
       "\n",
       "   post_publish_weekly_7  base_datetime_weekly_1  base_datetime_weekly_2  \\\n",
       "0                      0                       0                       0   \n",
       "1                      0                       0                       0   \n",
       "2                      0                       0                       0   \n",
       "3                      0                       0                       1   \n",
       "4                      0                       0                       0   \n",
       "\n",
       "   base_datetime_weekly_3  base_datetime_weekly_4  base_datetime_weekly_5  \\\n",
       "0                       0                       0                       0   \n",
       "1                       0                       0                       0   \n",
       "2                       0                       0                       0   \n",
       "3                       0                       0                       0   \n",
       "4                       0                       1                       0   \n",
       "\n",
       "   base_datetime_weekly_6  base_datetime_weekly_7  \n",
       "0                       0                       1  \n",
       "1                       1                       0  \n",
       "2                       0                       1  \n",
       "3                       0                       0  \n",
       "4                       0                       0  \n",
       "\n",
       "[5 rows x 52 columns]"
      ]
     },
     "execution_count": 12,
     "metadata": {},
     "output_type": "execute_result"
    }
   ],
   "source": [
    "social_x.head()"
   ]
  },
  {
   "cell_type": "markdown",
   "metadata": {},
   "source": [
    "Full Pipelining on dataset"
   ]
  },
  {
   "cell_type": "code",
   "execution_count": 13,
   "metadata": {
    "collapsed": true
   },
   "outputs": [],
   "source": [
    "# housing_num = social.drop(\"ocean_proximity\", axis=1)\n",
    "num_attribs = list(social_x)\n",
    "# cat_attribs = [\"ocean_proximity\"]\n",
    "\n",
    "num_pipeline = Pipeline([\n",
    "        ('selector', DataFrameSelector(num_attribs)),\n",
    "        ('imputer', Imputer(strategy=\"median\")),\n",
    "#         ('attribs_adder', CombinedAttributesAdder()),\n",
    "        ('nrm_scaler', MinMaxScaler()),\n",
    "    ])\n",
    "\n",
    "from sklearn.pipeline import FeatureUnion\n",
    "\n",
    "full_pipeline = FeatureUnion(transformer_list=[\n",
    "        (\"num_pipeline\", num_pipeline),\n",
    "#         (\"cat_pipeline\", cat_pipeline),\n",
    "    ])"
   ]
  },
  {
   "cell_type": "code",
   "execution_count": 14,
   "metadata": {},
   "outputs": [
    {
     "data": {
      "text/plain": [
       "array([[  1.30389152e-03,   0.00000000e+00,   7.60269966e-05, ...,\n",
       "          0.00000000e+00,   0.00000000e+00,   1.00000000e+00],\n",
       "       [  1.30389152e-03,   0.00000000e+00,   7.60269966e-05, ...,\n",
       "          0.00000000e+00,   1.00000000e+00,   0.00000000e+00],\n",
       "       [  1.30389152e-03,   0.00000000e+00,   7.60269966e-05, ...,\n",
       "          0.00000000e+00,   0.00000000e+00,   1.00000000e+00],\n",
       "       ..., \n",
       "       [  1.47237853e-02,   3.75596931e-04,   8.16099726e-02, ...,\n",
       "          1.00000000e+00,   0.00000000e+00,   0.00000000e+00],\n",
       "       [  1.47237853e-02,   3.75596931e-04,   8.16099726e-02, ...,\n",
       "          0.00000000e+00,   1.00000000e+00,   0.00000000e+00],\n",
       "       [  1.47237853e-02,   3.75596931e-04,   8.16099726e-02, ...,\n",
       "          0.00000000e+00,   1.00000000e+00,   0.00000000e+00]])"
      ]
     },
     "execution_count": 14,
     "metadata": {},
     "output_type": "execute_result"
    }
   ],
   "source": [
    "social_prepared = full_pipeline.fit_transform(social_x)\n",
    "social_prepared"
   ]
  },
  {
   "cell_type": "code",
   "execution_count": 15,
   "metadata": {
    "collapsed": true
   },
   "outputs": [],
   "source": [
    "# PROJECT_ROOT_DIR = \".\"\n",
    "# CHAPTER_ID = \"final_project\"\n",
    "# IMAGES_PATH = os.path.join(PROJECT_ROOT_DIR, \"images\", CHAPTER_ID)\n",
    "\n",
    "\n",
    "# def save_fig(fig_id, tight_layout=True, fig_extension=\"png\", resolution=300):\n",
    "#     path = os.path.join(IMAGES_PATH, fig_id + \".\" + fig_extension)\n",
    "#     print(\"Saving figure\", fig_id)\n",
    "#     if tight_layout:\n",
    "#         plt.tight_layout()\n",
    "#     plt.savefig(path, format=fig_extension, dpi=resolution)\n",
    "\n",
    "# %matplotlib inline\n",
    "# import matplotlib.pyplot as plt\n",
    "# social.hist(bins=50, figsize=(20,15))\n",
    "# save_fig(\"attribute_histogram_plots\")\n",
    "# plt.show()"
   ]
  },
  {
   "cell_type": "code",
   "execution_count": 16,
   "metadata": {},
   "outputs": [],
   "source": [
    "# from sklearn.ensemble import RandomForestClassifier\n",
    "\n",
    "# rnd_clf = RandomForestClassifier(n_estimators=100, max_leaf_nodes=16, n_jobs=-1, random_state=42)\n",
    "# rnd_clf.fit(social_prepared, social_y)"
   ]
  },
  {
   "cell_type": "code",
   "execution_count": 17,
   "metadata": {
    "collapsed": true
   },
   "outputs": [],
   "source": [
    "# x_pred = rnd_clf.predict(social_prepared)"
   ]
  },
  {
   "cell_type": "code",
   "execution_count": 18,
   "metadata": {
    "collapsed": true
   },
   "outputs": [],
   "source": [
    "# x_pred_score = rnd_clf.score(social_prepared, social_y)"
   ]
  },
  {
   "cell_type": "code",
   "execution_count": 19,
   "metadata": {},
   "outputs": [],
   "source": [
    "# x_pred_score"
   ]
  },
  {
   "cell_type": "code",
   "execution_count": null,
   "metadata": {
    "collapsed": true
   },
   "outputs": [],
   "source": []
  },
  {
   "cell_type": "code",
   "execution_count": 20,
   "metadata": {},
   "outputs": [
    {
     "name": "stderr",
     "output_type": "stream",
     "text": [
      "C:\\Users\\RachitBhatia\\Anaconda3\\lib\\site-packages\\sklearn\\cross_validation.py:41: DeprecationWarning: This module was deprecated in version 0.18 in favor of the model_selection module into which all the refactored classes and functions are moved. Also note that the interface of the new CV iterators are different from that of this module. This module will be removed in 0.20.\n",
      "  \"This module will be removed in 0.20.\", DeprecationWarning)\n",
      "C:\\Users\\RachitBhatia\\Anaconda3\\lib\\site-packages\\sklearn\\grid_search.py:42: DeprecationWarning: This module was deprecated in version 0.18 in favor of the model_selection module into which all the refactored classes and functions are moved. This module will be removed in 0.20.\n",
      "  DeprecationWarning)\n"
     ]
    }
   ],
   "source": [
    "from sklearn.grid_search import GridSearchCV\n"
   ]
  },
  {
   "cell_type": "code",
   "execution_count": null,
   "metadata": {
    "collapsed": true
   },
   "outputs": [],
   "source": []
  },
  {
   "cell_type": "code",
   "execution_count": 21,
   "metadata": {
    "collapsed": true
   },
   "outputs": [],
   "source": [
    "param_grid = { \n",
    "    'n_estimators': [100, 120],\n",
    "    'max_features': ['auto', 'sqrt', 'log2']\n",
    "}"
   ]
  },
  {
   "cell_type": "code",
   "execution_count": null,
   "metadata": {
    "collapsed": true
   },
   "outputs": [],
   "source": []
  },
  {
   "cell_type": "code",
   "execution_count": 22,
   "metadata": {
    "collapsed": true
   },
   "outputs": [],
   "source": [
    "from sklearn.ensemble import RandomForestRegressor\n",
    "\n",
    "rnd_reg = RandomForestRegressor(n_estimators=150, random_state=0)"
   ]
  },
  {
   "cell_type": "code",
   "execution_count": null,
   "metadata": {
    "collapsed": true
   },
   "outputs": [],
   "source": []
  },
  {
   "cell_type": "code",
   "execution_count": 23,
   "metadata": {},
   "outputs": [],
   "source": [
    "#CV_rfc = GridSearchCV(estimator=rnd_reg, param_grid=param_grid, cv= 5)\n",
    "#CV_rfc.fit(social_prepared, social_y)\n"
   ]
  },
  {
   "cell_type": "code",
   "execution_count": 24,
   "metadata": {
    "collapsed": true
   },
   "outputs": [],
   "source": [
    "#print (CV_rfc.best_params_)"
   ]
  },
  {
   "cell_type": "code",
   "execution_count": 25,
   "metadata": {},
   "outputs": [
    {
     "data": {
      "text/plain": [
       "RandomForestRegressor(bootstrap=True, criterion='mse', max_depth=None,\n",
       "           max_features='auto', max_leaf_nodes=None,\n",
       "           min_impurity_decrease=0.0, min_impurity_split=None,\n",
       "           min_samples_leaf=1, min_samples_split=2,\n",
       "           min_weight_fraction_leaf=0.0, n_estimators=150, n_jobs=1,\n",
       "           oob_score=False, random_state=0, verbose=0, warm_start=False)"
      ]
     },
     "execution_count": 25,
     "metadata": {},
     "output_type": "execute_result"
    }
   ],
   "source": [
    "rnd_reg.fit(social_prepared, social_y)"
   ]
  },
  {
   "cell_type": "code",
   "execution_count": 26,
   "metadata": {
    "collapsed": true
   },
   "outputs": [],
   "source": [
    "x_reg_pred = rnd_reg.predict(social_prepared)"
   ]
  },
  {
   "cell_type": "code",
   "execution_count": 27,
   "metadata": {
    "collapsed": true
   },
   "outputs": [],
   "source": [
    "x_reg_pred = rnd_reg.score(social_prepared, social_y)"
   ]
  },
  {
   "cell_type": "code",
   "execution_count": 28,
   "metadata": {},
   "outputs": [
    {
     "data": {
      "text/plain": [
       "0.95070271688881491"
      ]
     },
     "execution_count": 28,
     "metadata": {},
     "output_type": "execute_result"
    }
   ],
   "source": [
    "x_reg_pred"
   ]
  },
  {
   "cell_type": "code",
   "execution_count": null,
   "metadata": {
    "collapsed": true
   },
   "outputs": [],
   "source": []
  },
  {
   "cell_type": "code",
   "execution_count": 29,
   "metadata": {
    "collapsed": true
   },
   "outputs": [],
   "source": [
    "social_test = load_data(social_path= \"C:/Users/RachitBhatia/Anaconda3/uoft_machine_learning/Final_Project_Dataset/Testing/Features_TestSet-X.csv\")"
   ]
  },
  {
   "cell_type": "code",
   "execution_count": 30,
   "metadata": {
    "collapsed": true
   },
   "outputs": [],
   "source": [
    "social_test_y = social_test['target_variable']"
   ]
  },
  {
   "cell_type": "code",
   "execution_count": 31,
   "metadata": {},
   "outputs": [
    {
     "data": {
      "text/html": [
       "<div>\n",
       "<style>\n",
       "    .dataframe thead tr:only-child th {\n",
       "        text-align: right;\n",
       "    }\n",
       "\n",
       "    .dataframe thead th {\n",
       "        text-align: left;\n",
       "    }\n",
       "\n",
       "    .dataframe tbody tr th {\n",
       "        vertical-align: top;\n",
       "    }\n",
       "</style>\n",
       "<table border=\"1\" class=\"dataframe\">\n",
       "  <thead>\n",
       "    <tr style=\"text-align: right;\">\n",
       "      <th></th>\n",
       "      <th>page_likes</th>\n",
       "      <th>page_checkin</th>\n",
       "      <th>page_talking_about</th>\n",
       "      <th>page_category</th>\n",
       "      <th>derived_1</th>\n",
       "      <th>derived_2</th>\n",
       "      <th>derived_3</th>\n",
       "      <th>derived_4</th>\n",
       "      <th>derived_5</th>\n",
       "      <th>derived_6</th>\n",
       "      <th>...</th>\n",
       "      <th>post_publish_weekly_6</th>\n",
       "      <th>post_publish_weekly_7</th>\n",
       "      <th>base_datetime_weekly_1</th>\n",
       "      <th>base_datetime_weekly_2</th>\n",
       "      <th>base_datetime_weekly_3</th>\n",
       "      <th>base_datetime_weekly_4</th>\n",
       "      <th>base_datetime_weekly_5</th>\n",
       "      <th>base_datetime_weekly_6</th>\n",
       "      <th>base_datetime_weekly_7</th>\n",
       "      <th>target_variable</th>\n",
       "    </tr>\n",
       "  </thead>\n",
       "  <tbody>\n",
       "    <tr>\n",
       "      <th>0</th>\n",
       "      <td>634995</td>\n",
       "      <td>0</td>\n",
       "      <td>463</td>\n",
       "      <td>1</td>\n",
       "      <td>0</td>\n",
       "      <td>806</td>\n",
       "      <td>11.291045</td>\n",
       "      <td>1.0</td>\n",
       "      <td>70.495138</td>\n",
       "      <td>0</td>\n",
       "      <td>...</td>\n",
       "      <td>0</td>\n",
       "      <td>0</td>\n",
       "      <td>0</td>\n",
       "      <td>0</td>\n",
       "      <td>0</td>\n",
       "      <td>0</td>\n",
       "      <td>0</td>\n",
       "      <td>0</td>\n",
       "      <td>1</td>\n",
       "      <td>0</td>\n",
       "    </tr>\n",
       "    <tr>\n",
       "      <th>1</th>\n",
       "      <td>634995</td>\n",
       "      <td>0</td>\n",
       "      <td>463</td>\n",
       "      <td>1</td>\n",
       "      <td>0</td>\n",
       "      <td>806</td>\n",
       "      <td>11.291045</td>\n",
       "      <td>1.0</td>\n",
       "      <td>70.495138</td>\n",
       "      <td>0</td>\n",
       "      <td>...</td>\n",
       "      <td>0</td>\n",
       "      <td>0</td>\n",
       "      <td>0</td>\n",
       "      <td>0</td>\n",
       "      <td>0</td>\n",
       "      <td>0</td>\n",
       "      <td>0</td>\n",
       "      <td>1</td>\n",
       "      <td>0</td>\n",
       "      <td>0</td>\n",
       "    </tr>\n",
       "    <tr>\n",
       "      <th>2</th>\n",
       "      <td>634995</td>\n",
       "      <td>0</td>\n",
       "      <td>463</td>\n",
       "      <td>1</td>\n",
       "      <td>0</td>\n",
       "      <td>806</td>\n",
       "      <td>11.291045</td>\n",
       "      <td>1.0</td>\n",
       "      <td>70.495138</td>\n",
       "      <td>0</td>\n",
       "      <td>...</td>\n",
       "      <td>1</td>\n",
       "      <td>0</td>\n",
       "      <td>0</td>\n",
       "      <td>0</td>\n",
       "      <td>0</td>\n",
       "      <td>0</td>\n",
       "      <td>0</td>\n",
       "      <td>0</td>\n",
       "      <td>1</td>\n",
       "      <td>0</td>\n",
       "    </tr>\n",
       "    <tr>\n",
       "      <th>3</th>\n",
       "      <td>634995</td>\n",
       "      <td>0</td>\n",
       "      <td>463</td>\n",
       "      <td>1</td>\n",
       "      <td>0</td>\n",
       "      <td>806</td>\n",
       "      <td>11.291045</td>\n",
       "      <td>1.0</td>\n",
       "      <td>70.495138</td>\n",
       "      <td>0</td>\n",
       "      <td>...</td>\n",
       "      <td>1</td>\n",
       "      <td>0</td>\n",
       "      <td>0</td>\n",
       "      <td>1</td>\n",
       "      <td>0</td>\n",
       "      <td>0</td>\n",
       "      <td>0</td>\n",
       "      <td>0</td>\n",
       "      <td>0</td>\n",
       "      <td>0</td>\n",
       "    </tr>\n",
       "    <tr>\n",
       "      <th>4</th>\n",
       "      <td>634995</td>\n",
       "      <td>0</td>\n",
       "      <td>463</td>\n",
       "      <td>1</td>\n",
       "      <td>0</td>\n",
       "      <td>806</td>\n",
       "      <td>11.291045</td>\n",
       "      <td>1.0</td>\n",
       "      <td>70.495138</td>\n",
       "      <td>0</td>\n",
       "      <td>...</td>\n",
       "      <td>0</td>\n",
       "      <td>0</td>\n",
       "      <td>0</td>\n",
       "      <td>0</td>\n",
       "      <td>0</td>\n",
       "      <td>1</td>\n",
       "      <td>0</td>\n",
       "      <td>0</td>\n",
       "      <td>0</td>\n",
       "      <td>0</td>\n",
       "    </tr>\n",
       "  </tbody>\n",
       "</table>\n",
       "<p>5 rows × 54 columns</p>\n",
       "</div>"
      ],
      "text/plain": [
       "   page_likes  page_checkin  page_talking_about  page_category  derived_1  \\\n",
       "0      634995             0                 463              1          0   \n",
       "1      634995             0                 463              1          0   \n",
       "2      634995             0                 463              1          0   \n",
       "3      634995             0                 463              1          0   \n",
       "4      634995             0                 463              1          0   \n",
       "\n",
       "   derived_2  derived_3  derived_4  derived_5  derived_6       ...         \\\n",
       "0        806  11.291045        1.0  70.495138          0       ...          \n",
       "1        806  11.291045        1.0  70.495138          0       ...          \n",
       "2        806  11.291045        1.0  70.495138          0       ...          \n",
       "3        806  11.291045        1.0  70.495138          0       ...          \n",
       "4        806  11.291045        1.0  70.495138          0       ...          \n",
       "\n",
       "   post_publish_weekly_6  post_publish_weekly_7  base_datetime_weekly_1  \\\n",
       "0                      0                      0                       0   \n",
       "1                      0                      0                       0   \n",
       "2                      1                      0                       0   \n",
       "3                      1                      0                       0   \n",
       "4                      0                      0                       0   \n",
       "\n",
       "   base_datetime_weekly_2  base_datetime_weekly_3  base_datetime_weekly_4  \\\n",
       "0                       0                       0                       0   \n",
       "1                       0                       0                       0   \n",
       "2                       0                       0                       0   \n",
       "3                       1                       0                       0   \n",
       "4                       0                       0                       1   \n",
       "\n",
       "   base_datetime_weekly_5  base_datetime_weekly_6  base_datetime_weekly_7  \\\n",
       "0                       0                       0                       1   \n",
       "1                       0                       1                       0   \n",
       "2                       0                       0                       1   \n",
       "3                       0                       0                       0   \n",
       "4                       0                       0                       0   \n",
       "\n",
       "   target_variable  \n",
       "0                0  \n",
       "1                0  \n",
       "2                0  \n",
       "3                0  \n",
       "4                0  \n",
       "\n",
       "[5 rows x 54 columns]"
      ]
     },
     "execution_count": 31,
     "metadata": {},
     "output_type": "execute_result"
    }
   ],
   "source": [
    "social_test.head()"
   ]
  },
  {
   "cell_type": "code",
   "execution_count": 32,
   "metadata": {
    "collapsed": true
   },
   "outputs": [],
   "source": [
    "social_test_x = social_test\n",
    "#social_x.drop['School'], \n",
    "social_test_x.drop(social_test.columns[53], axis=1, inplace=True)"
   ]
  },
  {
   "cell_type": "code",
   "execution_count": 33,
   "metadata": {},
   "outputs": [
    {
     "data": {
      "text/html": [
       "<div>\n",
       "<style>\n",
       "    .dataframe thead tr:only-child th {\n",
       "        text-align: right;\n",
       "    }\n",
       "\n",
       "    .dataframe thead th {\n",
       "        text-align: left;\n",
       "    }\n",
       "\n",
       "    .dataframe tbody tr th {\n",
       "        vertical-align: top;\n",
       "    }\n",
       "</style>\n",
       "<table border=\"1\" class=\"dataframe\">\n",
       "  <thead>\n",
       "    <tr style=\"text-align: right;\">\n",
       "      <th></th>\n",
       "      <th>page_likes</th>\n",
       "      <th>page_checkin</th>\n",
       "      <th>page_talking_about</th>\n",
       "      <th>page_category</th>\n",
       "      <th>derived_1</th>\n",
       "      <th>derived_2</th>\n",
       "      <th>derived_3</th>\n",
       "      <th>derived_4</th>\n",
       "      <th>derived_5</th>\n",
       "      <th>derived_6</th>\n",
       "      <th>...</th>\n",
       "      <th>post_publish_weekly_5</th>\n",
       "      <th>post_publish_weekly_6</th>\n",
       "      <th>post_publish_weekly_7</th>\n",
       "      <th>base_datetime_weekly_1</th>\n",
       "      <th>base_datetime_weekly_2</th>\n",
       "      <th>base_datetime_weekly_3</th>\n",
       "      <th>base_datetime_weekly_4</th>\n",
       "      <th>base_datetime_weekly_5</th>\n",
       "      <th>base_datetime_weekly_6</th>\n",
       "      <th>base_datetime_weekly_7</th>\n",
       "    </tr>\n",
       "  </thead>\n",
       "  <tbody>\n",
       "    <tr>\n",
       "      <th>0</th>\n",
       "      <td>634995</td>\n",
       "      <td>0</td>\n",
       "      <td>463</td>\n",
       "      <td>1</td>\n",
       "      <td>0</td>\n",
       "      <td>806</td>\n",
       "      <td>11.291045</td>\n",
       "      <td>1.0</td>\n",
       "      <td>70.495138</td>\n",
       "      <td>0</td>\n",
       "      <td>...</td>\n",
       "      <td>0</td>\n",
       "      <td>0</td>\n",
       "      <td>0</td>\n",
       "      <td>0</td>\n",
       "      <td>0</td>\n",
       "      <td>0</td>\n",
       "      <td>0</td>\n",
       "      <td>0</td>\n",
       "      <td>0</td>\n",
       "      <td>1</td>\n",
       "    </tr>\n",
       "    <tr>\n",
       "      <th>1</th>\n",
       "      <td>634995</td>\n",
       "      <td>0</td>\n",
       "      <td>463</td>\n",
       "      <td>1</td>\n",
       "      <td>0</td>\n",
       "      <td>806</td>\n",
       "      <td>11.291045</td>\n",
       "      <td>1.0</td>\n",
       "      <td>70.495138</td>\n",
       "      <td>0</td>\n",
       "      <td>...</td>\n",
       "      <td>1</td>\n",
       "      <td>0</td>\n",
       "      <td>0</td>\n",
       "      <td>0</td>\n",
       "      <td>0</td>\n",
       "      <td>0</td>\n",
       "      <td>0</td>\n",
       "      <td>0</td>\n",
       "      <td>1</td>\n",
       "      <td>0</td>\n",
       "    </tr>\n",
       "    <tr>\n",
       "      <th>2</th>\n",
       "      <td>634995</td>\n",
       "      <td>0</td>\n",
       "      <td>463</td>\n",
       "      <td>1</td>\n",
       "      <td>0</td>\n",
       "      <td>806</td>\n",
       "      <td>11.291045</td>\n",
       "      <td>1.0</td>\n",
       "      <td>70.495138</td>\n",
       "      <td>0</td>\n",
       "      <td>...</td>\n",
       "      <td>0</td>\n",
       "      <td>1</td>\n",
       "      <td>0</td>\n",
       "      <td>0</td>\n",
       "      <td>0</td>\n",
       "      <td>0</td>\n",
       "      <td>0</td>\n",
       "      <td>0</td>\n",
       "      <td>0</td>\n",
       "      <td>1</td>\n",
       "    </tr>\n",
       "    <tr>\n",
       "      <th>3</th>\n",
       "      <td>634995</td>\n",
       "      <td>0</td>\n",
       "      <td>463</td>\n",
       "      <td>1</td>\n",
       "      <td>0</td>\n",
       "      <td>806</td>\n",
       "      <td>11.291045</td>\n",
       "      <td>1.0</td>\n",
       "      <td>70.495138</td>\n",
       "      <td>0</td>\n",
       "      <td>...</td>\n",
       "      <td>0</td>\n",
       "      <td>1</td>\n",
       "      <td>0</td>\n",
       "      <td>0</td>\n",
       "      <td>1</td>\n",
       "      <td>0</td>\n",
       "      <td>0</td>\n",
       "      <td>0</td>\n",
       "      <td>0</td>\n",
       "      <td>0</td>\n",
       "    </tr>\n",
       "    <tr>\n",
       "      <th>4</th>\n",
       "      <td>634995</td>\n",
       "      <td>0</td>\n",
       "      <td>463</td>\n",
       "      <td>1</td>\n",
       "      <td>0</td>\n",
       "      <td>806</td>\n",
       "      <td>11.291045</td>\n",
       "      <td>1.0</td>\n",
       "      <td>70.495138</td>\n",
       "      <td>0</td>\n",
       "      <td>...</td>\n",
       "      <td>0</td>\n",
       "      <td>0</td>\n",
       "      <td>0</td>\n",
       "      <td>0</td>\n",
       "      <td>0</td>\n",
       "      <td>0</td>\n",
       "      <td>1</td>\n",
       "      <td>0</td>\n",
       "      <td>0</td>\n",
       "      <td>0</td>\n",
       "    </tr>\n",
       "  </tbody>\n",
       "</table>\n",
       "<p>5 rows × 53 columns</p>\n",
       "</div>"
      ],
      "text/plain": [
       "   page_likes  page_checkin  page_talking_about  page_category  derived_1  \\\n",
       "0      634995             0                 463              1          0   \n",
       "1      634995             0                 463              1          0   \n",
       "2      634995             0                 463              1          0   \n",
       "3      634995             0                 463              1          0   \n",
       "4      634995             0                 463              1          0   \n",
       "\n",
       "   derived_2  derived_3  derived_4  derived_5  derived_6  \\\n",
       "0        806  11.291045        1.0  70.495138          0   \n",
       "1        806  11.291045        1.0  70.495138          0   \n",
       "2        806  11.291045        1.0  70.495138          0   \n",
       "3        806  11.291045        1.0  70.495138          0   \n",
       "4        806  11.291045        1.0  70.495138          0   \n",
       "\n",
       "            ...            post_publish_weekly_5  post_publish_weekly_6  \\\n",
       "0           ...                                0                      0   \n",
       "1           ...                                1                      0   \n",
       "2           ...                                0                      1   \n",
       "3           ...                                0                      1   \n",
       "4           ...                                0                      0   \n",
       "\n",
       "   post_publish_weekly_7  base_datetime_weekly_1  base_datetime_weekly_2  \\\n",
       "0                      0                       0                       0   \n",
       "1                      0                       0                       0   \n",
       "2                      0                       0                       0   \n",
       "3                      0                       0                       1   \n",
       "4                      0                       0                       0   \n",
       "\n",
       "   base_datetime_weekly_3  base_datetime_weekly_4  base_datetime_weekly_5  \\\n",
       "0                       0                       0                       0   \n",
       "1                       0                       0                       0   \n",
       "2                       0                       0                       0   \n",
       "3                       0                       0                       0   \n",
       "4                       0                       1                       0   \n",
       "\n",
       "   base_datetime_weekly_6  base_datetime_weekly_7  \n",
       "0                       0                       1  \n",
       "1                       1                       0  \n",
       "2                       0                       1  \n",
       "3                       0                       0  \n",
       "4                       0                       0  \n",
       "\n",
       "[5 rows x 53 columns]"
      ]
     },
     "execution_count": 33,
     "metadata": {},
     "output_type": "execute_result"
    }
   ],
   "source": [
    "social_test_x.head()"
   ]
  },
  {
   "cell_type": "code",
   "execution_count": 34,
   "metadata": {
    "collapsed": true
   },
   "outputs": [],
   "source": [
    "del social_test_x['post_promition_status'] "
   ]
  },
  {
   "cell_type": "code",
   "execution_count": 35,
   "metadata": {
    "collapsed": true
   },
   "outputs": [],
   "source": [
    "social_prepared_test = full_pipeline.fit_transform(social_test_x)"
   ]
  },
  {
   "cell_type": "code",
   "execution_count": 38,
   "metadata": {},
   "outputs": [],
   "source": [
    "y_pred = rnd_reg.predict(social_prepared_test)"
   ]
  },
  {
   "cell_type": "code",
   "execution_count": 39,
   "metadata": {},
   "outputs": [
    {
     "data": {
      "text/plain": [
       "array([  0.00000000e+00,   7.33333333e-02,   2.00000000e-02, ...,\n",
       "         1.03926667e+02,   2.77733333e+01,   2.54133333e+01])"
      ]
     },
     "execution_count": 39,
     "metadata": {},
     "output_type": "execute_result"
    }
   ],
   "source": [
    "y_pred"
   ]
  },
  {
   "cell_type": "code",
   "execution_count": 40,
   "metadata": {
    "collapsed": true
   },
   "outputs": [],
   "source": [
    "x_reg_test_pred = rnd_reg.score(social_test_x, social_test_y)"
   ]
  },
  {
   "cell_type": "code",
   "execution_count": 41,
   "metadata": {},
   "outputs": [
    {
     "data": {
      "text/plain": [
       "-69.704626366526753"
      ]
     },
     "execution_count": 41,
     "metadata": {},
     "output_type": "execute_result"
    }
   ],
   "source": [
    "x_reg_test_pred"
   ]
  },
  {
   "cell_type": "code",
   "execution_count": null,
   "metadata": {
    "collapsed": true
   },
   "outputs": [],
   "source": []
  },
  {
   "cell_type": "code",
   "execution_count": null,
   "metadata": {
    "collapsed": true
   },
   "outputs": [],
   "source": []
  },
  {
   "cell_type": "markdown",
   "metadata": {
    "collapsed": true
   },
   "source": [
    "Example with single preceptron"
   ]
  },
  {
   "cell_type": "code",
   "execution_count": null,
   "metadata": {
    "collapsed": true
   },
   "outputs": [],
   "source": []
  },
  {
   "cell_type": "code",
   "execution_count": 82,
   "metadata": {},
   "outputs": [
    {
     "name": "stderr",
     "output_type": "stream",
     "text": [
      "C:\\Users\\RachitBhatia\\Anaconda3\\lib\\site-packages\\sklearn\\linear_model\\stochastic_gradient.py:84: FutureWarning: max_iter and tol parameters have been added in <class 'sklearn.linear_model.perceptron.Perceptron'> in 0.19. If both are left unset, they default to max_iter=5 and tol=None. If tol is not None, max_iter defaults to max_iter=1000. From 0.21, default max_iter will be 1000, and default tol will be 1e-3.\n",
      "  \"and default tol will be 1e-3.\" % type(self), FutureWarning)\n"
     ]
    },
    {
     "data": {
      "text/plain": [
       "Perceptron(alpha=0.0001, class_weight=None, eta0=1.0, fit_intercept=True,\n",
       "      max_iter=5, n_iter=None, n_jobs=1, penalty=None, random_state=42,\n",
       "      shuffle=True, tol=None, verbose=0, warm_start=False)"
      ]
     },
     "execution_count": 82,
     "metadata": {},
     "output_type": "execute_result"
    }
   ],
   "source": [
    "from sklearn.linear_model import Perceptron\n",
    "\n",
    "per_clf = Perceptron(random_state=42)\n",
    "per_clf.fit(social_prepared, social_y)\n",
    "\n"
   ]
  },
  {
   "cell_type": "code",
   "execution_count": 83,
   "metadata": {
    "collapsed": true
   },
   "outputs": [],
   "source": [
    "y_pred = per_clf.predict(social_test_x)"
   ]
  },
  {
   "cell_type": "code",
   "execution_count": 84,
   "metadata": {},
   "outputs": [
    {
     "data": {
      "text/plain": [
       "array([169, 169, 169, ..., 169, 169, 169], dtype=int64)"
      ]
     },
     "execution_count": 84,
     "metadata": {},
     "output_type": "execute_result"
    }
   ],
   "source": [
    "y_pred"
   ]
  },
  {
   "cell_type": "code",
   "execution_count": 86,
   "metadata": {
    "collapsed": true
   },
   "outputs": [],
   "source": [
    "per_clf_score = per_clf.score(social_prepared, social_y)"
   ]
  },
  {
   "cell_type": "code",
   "execution_count": 87,
   "metadata": {},
   "outputs": [
    {
     "data": {
      "text/plain": [
       "0.49827834623556133"
      ]
     },
     "execution_count": 87,
     "metadata": {},
     "output_type": "execute_result"
    }
   ],
   "source": [
    "per_clf_score"
   ]
  },
  {
   "cell_type": "code",
   "execution_count": null,
   "metadata": {
    "collapsed": true
   },
   "outputs": [],
   "source": []
  },
  {
   "cell_type": "markdown",
   "metadata": {},
   "source": [
    "Multi Layer preceptron regressor"
   ]
  },
  {
   "cell_type": "code",
   "execution_count": 43,
   "metadata": {
    "collapsed": true
   },
   "outputs": [],
   "source": [
    "from sklearn.neural_network import MLPRegressor"
   ]
  },
  {
   "cell_type": "code",
   "execution_count": 44,
   "metadata": {
    "collapsed": true
   },
   "outputs": [],
   "source": [
    "mlp_reg = MLPRegressor(\n",
    "    hidden_layer_sizes=(100),  activation='relu', solver='adam', alpha=0.001, batch_size='auto',\n",
    "    learning_rate='constant', learning_rate_init=0.01, power_t=0.5, max_iter=1000, shuffle=True,\n",
    "    random_state=9, tol=0.0001, verbose=False, warm_start=False, momentum=0.9, nesterovs_momentum=True,\n",
    "    early_stopping=False, validation_fraction=0.1, beta_1=0.9, beta_2=0.999, epsilon=1e-08)\n"
   ]
  },
  {
   "cell_type": "code",
   "execution_count": 45,
   "metadata": {},
   "outputs": [
    {
     "data": {
      "text/plain": [
       "MLPRegressor(activation='relu', alpha=0.001, batch_size='auto', beta_1=0.9,\n",
       "       beta_2=0.999, early_stopping=False, epsilon=1e-08,\n",
       "       hidden_layer_sizes=100, learning_rate='constant',\n",
       "       learning_rate_init=0.01, max_iter=1000, momentum=0.9,\n",
       "       nesterovs_momentum=True, power_t=0.5, random_state=9, shuffle=True,\n",
       "       solver='adam', tol=0.0001, validation_fraction=0.1, verbose=False,\n",
       "       warm_start=False)"
      ]
     },
     "execution_count": 45,
     "metadata": {},
     "output_type": "execute_result"
    }
   ],
   "source": [
    "mlp_reg.fit(social_prepared, social_y)"
   ]
  },
  {
   "cell_type": "code",
   "execution_count": 46,
   "metadata": {
    "collapsed": true
   },
   "outputs": [],
   "source": [
    "mlp_reg_score = mlp_reg.score(social_prepared, social_y)"
   ]
  },
  {
   "cell_type": "code",
   "execution_count": 47,
   "metadata": {},
   "outputs": [
    {
     "data": {
      "text/plain": [
       "0.64886286905623924"
      ]
     },
     "execution_count": 47,
     "metadata": {},
     "output_type": "execute_result"
    }
   ],
   "source": [
    "mlp_reg_score"
   ]
  },
  {
   "cell_type": "code",
   "execution_count": 48,
   "metadata": {},
   "outputs": [],
   "source": [
    "mlp_reg_test_score = mlp_reg.score(social_prepared, social_y)"
   ]
  },
  {
   "cell_type": "code",
   "execution_count": 49,
   "metadata": {},
   "outputs": [
    {
     "data": {
      "text/plain": [
       "0.64886286905623924"
      ]
     },
     "execution_count": 49,
     "metadata": {},
     "output_type": "execute_result"
    }
   ],
   "source": [
    "mlp_reg_test_score"
   ]
  },
  {
   "cell_type": "code",
   "execution_count": null,
   "metadata": {
    "collapsed": true
   },
   "outputs": [],
   "source": []
  },
  {
   "cell_type": "code",
   "execution_count": null,
   "metadata": {
    "collapsed": true
   },
   "outputs": [],
   "source": []
  },
  {
   "cell_type": "markdown",
   "metadata": {},
   "source": [
    "MLP regressor gave better result than Random forest Regressor"
   ]
  },
  {
   "cell_type": "code",
   "execution_count": null,
   "metadata": {
    "collapsed": true
   },
   "outputs": [],
   "source": []
  }
 ],
 "metadata": {
  "kernelspec": {
   "display_name": "Python 3",
   "language": "python",
   "name": "python3"
  }
 },
 "nbformat": 4,
 "nbformat_minor": 2
}
